{
 "cells": [
  {
   "cell_type": "code",
   "execution_count": 2,
   "id": "b2aa354f",
   "metadata": {},
   "outputs": [
    {
     "name": "stdout",
     "output_type": "stream",
     "text": [
      "Defaulting to user installation because normal site-packages is not writeable\n",
      "Requirement already satisfied: pyTelegramBotAPI in /Users/amiin/Library/Python/3.9/lib/python/site-packages (4.25.0)\n",
      "Requirement already satisfied: yfinance in /Users/amiin/Library/Python/3.9/lib/python/site-packages (0.2.51)\n",
      "Requirement already satisfied: requests in /Users/amiin/Library/Python/3.9/lib/python/site-packages (from pyTelegramBotAPI) (2.32.3)\n",
      "Requirement already satisfied: pandas>=1.3.0 in /Users/amiin/Library/Python/3.9/lib/python/site-packages (from yfinance) (2.2.3)\n",
      "Requirement already satisfied: numpy>=1.16.5 in /Library/Python/3.9/site-packages (from yfinance) (2.0.1)\n",
      "Requirement already satisfied: multitasking>=0.0.7 in /Users/amiin/Library/Python/3.9/lib/python/site-packages (from yfinance) (0.0.11)\n",
      "Requirement already satisfied: lxml>=4.9.1 in /Users/amiin/Library/Python/3.9/lib/python/site-packages (from yfinance) (5.2.2)\n",
      "Requirement already satisfied: platformdirs>=2.0.0 in /Users/amiin/Library/Python/3.9/lib/python/site-packages (from yfinance) (4.3.6)\n",
      "Requirement already satisfied: pytz>=2022.5 in /Users/amiin/Library/Python/3.9/lib/python/site-packages (from yfinance) (2024.2)\n",
      "Requirement already satisfied: frozendict>=2.3.4 in /Users/amiin/Library/Python/3.9/lib/python/site-packages (from yfinance) (2.4.6)\n",
      "Requirement already satisfied: peewee>=3.16.2 in /Users/amiin/Library/Python/3.9/lib/python/site-packages (from yfinance) (3.17.8)\n",
      "Requirement already satisfied: beautifulsoup4>=4.11.1 in /Users/amiin/Library/Python/3.9/lib/python/site-packages (from yfinance) (4.12.3)\n",
      "Requirement already satisfied: html5lib>=1.1 in /Users/amiin/Library/Python/3.9/lib/python/site-packages (from yfinance) (1.1)\n",
      "Requirement already satisfied: soupsieve>1.2 in /Users/amiin/Library/Python/3.9/lib/python/site-packages (from beautifulsoup4>=4.11.1->yfinance) (2.5)\n",
      "Requirement already satisfied: six>=1.9 in /Library/Developer/CommandLineTools/Library/Frameworks/Python3.framework/Versions/3.9/lib/python3.9/site-packages (from html5lib>=1.1->yfinance) (1.15.0)\n",
      "Requirement already satisfied: webencodings in /Users/amiin/Library/Python/3.9/lib/python/site-packages (from html5lib>=1.1->yfinance) (0.5.1)\n",
      "Requirement already satisfied: python-dateutil>=2.8.2 in /Users/amiin/Library/Python/3.9/lib/python/site-packages (from pandas>=1.3.0->yfinance) (2.9.0.post0)\n",
      "Requirement already satisfied: tzdata>=2022.7 in /Users/amiin/Library/Python/3.9/lib/python/site-packages (from pandas>=1.3.0->yfinance) (2024.2)\n",
      "Requirement already satisfied: charset-normalizer<4,>=2 in /Users/amiin/Library/Python/3.9/lib/python/site-packages (from requests->pyTelegramBotAPI) (3.3.2)\n",
      "Requirement already satisfied: idna<4,>=2.5 in /Users/amiin/Library/Python/3.9/lib/python/site-packages (from requests->pyTelegramBotAPI) (3.7)\n",
      "Requirement already satisfied: urllib3<3,>=1.21.1 in /Users/amiin/Library/Python/3.9/lib/python/site-packages (from requests->pyTelegramBotAPI) (2.2.2)\n",
      "Requirement already satisfied: certifi>=2017.4.17 in /Users/amiin/Library/Python/3.9/lib/python/site-packages (from requests->pyTelegramBotAPI) (2024.6.2)\n",
      "Note: you may need to restart the kernel to use updated packages.\n"
     ]
    }
   ],
   "source": [
    "pip install pyTelegramBotAPI yfinance"
   ]
  },
  {
   "cell_type": "code",
   "execution_count": 3,
   "id": "f469ea27",
   "metadata": {},
   "outputs": [
    {
     "name": "stderr",
     "output_type": "stream",
     "text": [
      "/Users/amiin/Library/Python/3.9/lib/python/site-packages/urllib3/__init__.py:35: NotOpenSSLWarning: urllib3 v2 only supports OpenSSL 1.1.1+, currently the 'ssl' module is compiled with 'LibreSSL 2.8.3'. See: https://github.com/urllib3/urllib3/issues/3020\n",
      "  warnings.warn(\n"
     ]
    }
   ],
   "source": [
    "import telebot\n",
    "import yfinance as yf\n",
    "from datetime import datetime"
   ]
  },
  {
   "cell_type": "code",
   "execution_count": 4,
   "id": "759dee33",
   "metadata": {},
   "outputs": [],
   "source": [
    "TOKEN = '7586492472:AAFMco51mLQtt1IfJi7cs5QS0HnCASGuOA4'\n",
    "bot = telebot.TeleBot(TOKEN)"
   ]
  },
  {
   "cell_type": "code",
   "execution_count": 5,
   "id": "a8ebc396",
   "metadata": {},
   "outputs": [],
   "source": [
    "def get_bitcoin_price(date):\n",
    "    try:\n",
    "        # دریافت داده‌های تاریخی بیت‌کوین\n",
    "        btc = yf.Ticker(\"BTC-USD\")\n",
    "        historical = btc.history(start=date, end=date)\n",
    "        price = historical['Close'].iloc[0]\n",
    "        return f\"Bitcoin price on {date} was ${price:.2f}\"\n",
    "    except:\n",
    "        return \"Error: Unable to fetch data for the specified date.\""
   ]
  },
  {
   "cell_type": "code",
   "execution_count": 6,
   "id": "6dd32253",
   "metadata": {},
   "outputs": [],
   "source": [
    "@bot.message_handler(commands=['price'])\n",
    "def send_welcome(message):\n",
    "    bot.reply_to(message, \"Please enter the date in YYYY-MM-DD format:\")"
   ]
  },
  {
   "cell_type": "code",
   "execution_count": 7,
   "id": "0c873b79",
   "metadata": {},
   "outputs": [],
   "source": [
    "@bot.message_handler(func=lambda message: True)\n",
    "def fetch_price(message):\n",
    "    date = message.text.strip()\n",
    "    try:\n",
    "        datetime.strptime(date, '%Y-%m-%d')  # بررسی فرمت تاریخ\n",
    "        price_message = get_bitcoin_price(date)\n",
    "        bot.reply_to(message, price_message)\n",
    "    except ValueError:\n",
    "        bot.reply_to(message, \"Invalid date format. Please use YYYY-MM-DD.\")"
   ]
  },
  {
   "cell_type": "code",
   "execution_count": null,
   "id": "22ec77d6",
   "metadata": {},
   "outputs": [
    {
     "name": "stdout",
     "output_type": "stream",
     "text": [
      "Bot is running...\n"
     ]
    }
   ],
   "source": [
    "print(\"Bot is running...\")\n",
    "bot.polling()"
   ]
  },
  {
   "cell_type": "code",
   "execution_count": null,
   "id": "b3151a1a",
   "metadata": {},
   "outputs": [],
   "source": []
  }
 ],
 "metadata": {
  "kernelspec": {
   "display_name": "Python 3",
   "language": "python",
   "name": "python3"
  },
  "language_info": {
   "codemirror_mode": {
    "name": "ipython",
    "version": 3
   },
   "file_extension": ".py",
   "mimetype": "text/x-python",
   "name": "python",
   "nbconvert_exporter": "python",
   "pygments_lexer": "ipython3",
   "version": "3.9.6"
  }
 },
 "nbformat": 4,
 "nbformat_minor": 5
}
