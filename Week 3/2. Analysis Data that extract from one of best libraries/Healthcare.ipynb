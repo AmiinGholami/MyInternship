{
 "cells": [
  {
   "cell_type": "code",
   "execution_count": 1,
   "id": "a086142d-f422-4dc6-9d93-bdfc123cfa2f",
   "metadata": {},
   "outputs": [],
   "source": [
    "import pandas as pd\n",
    "import numpy as np\n",
    "from plotly.subplots import make_subplots\n",
    "import plotly.graph_objects as go\n",
    "import plotly.io as pio\n",
    "pio.renderers.default = 'notebook' \n",
    "import warnings\n",
    "warnings.filterwarnings(\"ignore\")"
   ]
  },
  {
   "cell_type": "code",
   "execution_count": 2,
   "id": "4cf47bc1-89b3-4d4b-81bd-620382196ff3",
   "metadata": {},
   "outputs": [
    {
     "data": {
      "text/html": [
       "<div>\n",
       "<style scoped>\n",
       "    .dataframe tbody tr th:only-of-type {\n",
       "        vertical-align: middle;\n",
       "    }\n",
       "\n",
       "    .dataframe tbody tr th {\n",
       "        vertical-align: top;\n",
       "    }\n",
       "\n",
       "    .dataframe thead th {\n",
       "        text-align: right;\n",
       "    }\n",
       "</style>\n",
       "<table border=\"1\" class=\"dataframe\">\n",
       "  <thead>\n",
       "    <tr style=\"text-align: right;\">\n",
       "      <th></th>\n",
       "      <th>id</th>\n",
       "      <th>gender</th>\n",
       "      <th>age</th>\n",
       "      <th>hypertension</th>\n",
       "      <th>heart_disease</th>\n",
       "      <th>ever_married</th>\n",
       "      <th>work_type</th>\n",
       "      <th>Residence_type</th>\n",
       "      <th>avg_glucose_level</th>\n",
       "      <th>bmi</th>\n",
       "      <th>smoking_status</th>\n",
       "      <th>stroke</th>\n",
       "    </tr>\n",
       "  </thead>\n",
       "  <tbody>\n",
       "    <tr>\n",
       "      <th>0</th>\n",
       "      <td>9046</td>\n",
       "      <td>Male</td>\n",
       "      <td>67.0</td>\n",
       "      <td>0</td>\n",
       "      <td>1</td>\n",
       "      <td>Yes</td>\n",
       "      <td>Private</td>\n",
       "      <td>Urban</td>\n",
       "      <td>228.69</td>\n",
       "      <td>36.6</td>\n",
       "      <td>formerly smoked</td>\n",
       "      <td>1</td>\n",
       "    </tr>\n",
       "    <tr>\n",
       "      <th>1</th>\n",
       "      <td>51676</td>\n",
       "      <td>Female</td>\n",
       "      <td>61.0</td>\n",
       "      <td>0</td>\n",
       "      <td>0</td>\n",
       "      <td>Yes</td>\n",
       "      <td>Self-employed</td>\n",
       "      <td>Rural</td>\n",
       "      <td>202.21</td>\n",
       "      <td>NaN</td>\n",
       "      <td>never smoked</td>\n",
       "      <td>1</td>\n",
       "    </tr>\n",
       "    <tr>\n",
       "      <th>2</th>\n",
       "      <td>31112</td>\n",
       "      <td>Male</td>\n",
       "      <td>80.0</td>\n",
       "      <td>0</td>\n",
       "      <td>1</td>\n",
       "      <td>Yes</td>\n",
       "      <td>Private</td>\n",
       "      <td>Rural</td>\n",
       "      <td>105.92</td>\n",
       "      <td>32.5</td>\n",
       "      <td>never smoked</td>\n",
       "      <td>1</td>\n",
       "    </tr>\n",
       "    <tr>\n",
       "      <th>3</th>\n",
       "      <td>60182</td>\n",
       "      <td>Female</td>\n",
       "      <td>49.0</td>\n",
       "      <td>0</td>\n",
       "      <td>0</td>\n",
       "      <td>Yes</td>\n",
       "      <td>Private</td>\n",
       "      <td>Urban</td>\n",
       "      <td>171.23</td>\n",
       "      <td>34.4</td>\n",
       "      <td>smokes</td>\n",
       "      <td>1</td>\n",
       "    </tr>\n",
       "    <tr>\n",
       "      <th>4</th>\n",
       "      <td>1665</td>\n",
       "      <td>Female</td>\n",
       "      <td>79.0</td>\n",
       "      <td>1</td>\n",
       "      <td>0</td>\n",
       "      <td>Yes</td>\n",
       "      <td>Self-employed</td>\n",
       "      <td>Rural</td>\n",
       "      <td>174.12</td>\n",
       "      <td>24.0</td>\n",
       "      <td>never smoked</td>\n",
       "      <td>1</td>\n",
       "    </tr>\n",
       "  </tbody>\n",
       "</table>\n",
       "</div>"
      ],
      "text/plain": [
       "      id  gender   age  hypertension  heart_disease ever_married  \\\n",
       "0   9046    Male  67.0             0              1          Yes   \n",
       "1  51676  Female  61.0             0              0          Yes   \n",
       "2  31112    Male  80.0             0              1          Yes   \n",
       "3  60182  Female  49.0             0              0          Yes   \n",
       "4   1665  Female  79.0             1              0          Yes   \n",
       "\n",
       "       work_type Residence_type  avg_glucose_level   bmi   smoking_status  \\\n",
       "0        Private          Urban             228.69  36.6  formerly smoked   \n",
       "1  Self-employed          Rural             202.21   NaN     never smoked   \n",
       "2        Private          Rural             105.92  32.5     never smoked   \n",
       "3        Private          Urban             171.23  34.4           smokes   \n",
       "4  Self-employed          Rural             174.12  24.0     never smoked   \n",
       "\n",
       "   stroke  \n",
       "0       1  \n",
       "1       1  \n",
       "2       1  \n",
       "3       1  \n",
       "4       1  "
      ]
     },
     "execution_count": 2,
     "metadata": {},
     "output_type": "execute_result"
    }
   ],
   "source": [
    "Healthcare=pd.read_csv(\"healthcare-dataset-stroke-data.csv\")\n",
    "Healthcare.head()"
   ]
  },
  {
   "cell_type": "code",
   "execution_count": 3,
   "id": "169b262c-fcf4-45c3-8783-2b937db89c86",
   "metadata": {},
   "outputs": [
    {
     "data": {
      "text/plain": [
       "(5110, 12)"
      ]
     },
     "execution_count": 3,
     "metadata": {},
     "output_type": "execute_result"
    }
   ],
   "source": [
    "Healthcare.shape"
   ]
  },
  {
   "cell_type": "code",
   "execution_count": 4,
   "id": "69ba7d6b-f732-4189-8882-b6af4610bebf",
   "metadata": {
    "scrolled": true
   },
   "outputs": [
    {
     "name": "stdout",
     "output_type": "stream",
     "text": [
      "<class 'pandas.core.frame.DataFrame'>\n",
      "RangeIndex: 5110 entries, 0 to 5109\n",
      "Data columns (total 12 columns):\n",
      " #   Column             Non-Null Count  Dtype  \n",
      "---  ------             --------------  -----  \n",
      " 0   id                 5110 non-null   int64  \n",
      " 1   gender             5110 non-null   object \n",
      " 2   age                5110 non-null   float64\n",
      " 3   hypertension       5110 non-null   int64  \n",
      " 4   heart_disease      5110 non-null   int64  \n",
      " 5   ever_married       5110 non-null   object \n",
      " 6   work_type          5110 non-null   object \n",
      " 7   Residence_type     5110 non-null   object \n",
      " 8   avg_glucose_level  5110 non-null   float64\n",
      " 9   bmi                4909 non-null   float64\n",
      " 10  smoking_status     5110 non-null   object \n",
      " 11  stroke             5110 non-null   int64  \n",
      "dtypes: float64(3), int64(4), object(5)\n",
      "memory usage: 479.2+ KB\n"
     ]
    }
   ],
   "source": [
    "Healthcare.info()"
   ]
  },
  {
   "cell_type": "markdown",
   "id": "e75ed4c9-b873-4fbe-a612-ec304339dd31",
   "metadata": {},
   "source": [
    "MetaData"
   ]
  },
  {
   "cell_type": "markdown",
   "id": "75a72432-731a-4e9b-83d2-cc0889d73942",
   "metadata": {},
   "source": [
    "Dataset Name: Stroke Prediction Dataset\n",
    "\n",
    "Description: This dataset contains information on individuals' health factors, including medical conditions, lifestyle habits, and demographics, to predict the likelihood of a stroke occurrence.\n",
    "\n",
    "Data Columns:\n",
    "\n",
    "id (int64): Unique identifier for each record. \n",
    "gender (object): Gender of the individual (e.g., \"Male\", \"Female\").  \n",
    "age (float64): Age of the individual in years.  \n",
    "hypertension (int64): Whether the individual has hypertension (1 = Yes, 0 = No).  \n",
    "heart_disease (int64): Whether the individual has heart disease (1 = Yes, 0 = No).  \n",
    "ever_married (object): Marital status (\"Yes\", \"No\").  \n",
    "work_type (object): The type of work the individual does (\"Private\", \"Self-employed\", \"Govt_job\", \"children\", \"Never_worked\").  \n",
    "Residence_type (object): Type of area where the individual resides (\"Urban\", \"Rural\").  \n",
    "avg_glucose_level (float64): Average glucose level in the blood.  \n",
    "bmi (float64): Body Mass Index (BMI). Some values may be missing (4910 non-null entries).  \n",
    "smoking_status (object): Smoking status (\"formerly smoked\", \"Never smoked\", \"Smokes\", \"Unknown\").  \n",
    "stroke (int64): Target variable indicating whether the individual had a stroke (1 = Yes, 0 = No)."
   ]
  },
  {
   "cell_type": "code",
   "execution_count": 5,
   "id": "a79feb38-a26d-4933-a1f9-e72590c7b53e",
   "metadata": {},
   "outputs": [
    {
     "data": {
      "text/plain": [
       "np.int64(0)"
      ]
     },
     "execution_count": 5,
     "metadata": {},
     "output_type": "execute_result"
    }
   ],
   "source": [
    "np.sum(Healthcare.duplicated())"
   ]
  },
  {
   "cell_type": "markdown",
   "id": "c6712ca0-d516-4abf-908c-d3c95d8e7636",
   "metadata": {},
   "source": [
    "There is no any duplicated."
   ]
  },
  {
   "cell_type": "markdown",
   "id": "26670296-5451-44ef-af90-d4396ddc204b",
   "metadata": {},
   "source": [
    "Handling Missing Values"
   ]
  },
  {
   "cell_type": "code",
   "execution_count": 6,
   "id": "73db8488-da33-4217-8ed5-f883271258ac",
   "metadata": {},
   "outputs": [
    {
     "data": {
      "text/plain": [
       "id                     0\n",
       "gender                 0\n",
       "age                    0\n",
       "hypertension           0\n",
       "heart_disease          0\n",
       "ever_married           0\n",
       "work_type              0\n",
       "Residence_type         0\n",
       "avg_glucose_level      0\n",
       "bmi                  201\n",
       "smoking_status         0\n",
       "stroke                 0\n",
       "dtype: int64"
      ]
     },
     "execution_count": 6,
     "metadata": {},
     "output_type": "execute_result"
    }
   ],
   "source": [
    "np.sum(Healthcare.isnull())"
   ]
  },
  {
   "cell_type": "markdown",
   "id": "b84328bb-a1a8-49bc-875a-b9ee2d26008b",
   "metadata": {},
   "source": [
    "Result: There is no any missing value in dataset except bmi, so we just need to handle missing values in bmi."
   ]
  },
  {
   "cell_type": "code",
   "execution_count": 7,
   "id": "4764c087-616a-4c61-a6b9-1f279ded3e48",
   "metadata": {},
   "outputs": [
    {
     "name": "stdout",
     "output_type": "stream",
     "text": [
      "Percentage of missing values in 'bmi': 3.93%\n"
     ]
    }
   ],
   "source": [
    "missing_percentage = Healthcare['bmi'].isnull().mean() * 100\n",
    "print(f\"Percentage of missing values in '{'bmi'}': {missing_percentage:.2f}%\")"
   ]
  },
  {
   "cell_type": "code",
   "execution_count": 8,
   "id": "6f4611c1-f779-402c-b7e7-1a645b51435f",
   "metadata": {},
   "outputs": [
    {
     "data": {
      "text/plain": [
       "(np.float64(28.893236911794666), np.float64(28.1))"
      ]
     },
     "execution_count": 8,
     "metadata": {},
     "output_type": "execute_result"
    }
   ],
   "source": [
    "Healthcare.bmi.mean(),Healthcare.bmi.median()"
   ]
  },
  {
   "cell_type": "code",
   "execution_count": 9,
   "id": "f52b459e-e12c-46e0-a0a4-bfbe5f2a40c2",
   "metadata": {},
   "outputs": [
    {
     "data": {
      "text/plain": [
       "<Axes: ylabel='Frequency'>"
      ]
     },
     "execution_count": 9,
     "metadata": {},
     "output_type": "execute_result"
    },
    {
     "data": {
      "image/png": "[encoded data removed]",
      "text/plain": [
       "<Figure size 640x480 with 1 Axes>"
      ]
     },
     "metadata": {},
     "output_type": "display_data"
    }
   ],
   "source": [
    "Healthcare['bmi'].plot(kind=\"hist\")"
   ]
  },
  {
   "cell_type": "code",
   "execution_count": 10,
   "id": "29f19551-49d9-4076-843d-b0a3656e23ff",
   "metadata": {},
   "outputs": [
    {
     "data": {
      "text/plain": [
       "<Axes: >"
      ]
     },
     "execution_count": 10,
     "metadata": {},
     "output_type": "execute_result"
    },
    {
     "data": {
      "image/png": "[encoded data removed]",
      "text/plain": [
       "<Figure size 640x480 with 1 Axes>"
      ]
     },
     "metadata": {},
     "output_type": "display_data"
    }
   ],
   "source": [
    "Healthcare['bmi'].plot(kind=\"box\")"
   ]
  },
  {
   "cell_type": "code",
   "execution_count": 11,
   "id": "5d2293c5-305a-40d8-98f2-f9a8b164da81",
   "metadata": {},
   "outputs": [
    {
     "data": {
      "text/html": [
       "<div>\n",
       "<style scoped>\n",
       "    .dataframe tbody tr th:only-of-type {\n",
       "        vertical-align: middle;\n",
       "    }\n",
       "\n",
       "    .dataframe tbody tr th {\n",
       "        vertical-align: top;\n",
       "    }\n",
       "\n",
       "    .dataframe thead th {\n",
       "        text-align: right;\n",
       "    }\n",
       "</style>\n",
       "<table border=\"1\" class=\"dataframe\">\n",
       "  <thead>\n",
       "    <tr style=\"text-align: right;\">\n",
       "      <th></th>\n",
       "      <th>id</th>\n",
       "      <th>gender</th>\n",
       "      <th>age</th>\n",
       "      <th>hypertension</th>\n",
       "      <th>heart_disease</th>\n",
       "      <th>ever_married</th>\n",
       "      <th>work_type</th>\n",
       "      <th>Residence_type</th>\n",
       "      <th>avg_glucose_level</th>\n",
       "      <th>bmi</th>\n",
       "      <th>smoking_status</th>\n",
       "      <th>stroke</th>\n",
       "    </tr>\n",
       "  </thead>\n",
       "  <tbody>\n",
       "    <tr>\n",
       "      <th>0</th>\n",
       "      <td>9046</td>\n",
       "      <td>Male</td>\n",
       "      <td>67.0</td>\n",
       "      <td>0</td>\n",
       "      <td>1</td>\n",
       "      <td>Yes</td>\n",
       "      <td>Private</td>\n",
       "      <td>Urban</td>\n",
       "      <td>228.69</td>\n",
       "      <td>36.6</td>\n",
       "      <td>formerly smoked</td>\n",
       "      <td>1</td>\n",
       "    </tr>\n",
       "    <tr>\n",
       "      <th>1</th>\n",
       "      <td>51676</td>\n",
       "      <td>Female</td>\n",
       "      <td>61.0</td>\n",
       "      <td>0</td>\n",
       "      <td>0</td>\n",
       "      <td>Yes</td>\n",
       "      <td>Self-employed</td>\n",
       "      <td>Rural</td>\n",
       "      <td>202.21</td>\n",
       "      <td>28.1</td>\n",
       "      <td>never smoked</td>\n",
       "      <td>1</td>\n",
       "    </tr>\n",
       "    <tr>\n",
       "      <th>2</th>\n",
       "      <td>31112</td>\n",
       "      <td>Male</td>\n",
       "      <td>80.0</td>\n",
       "      <td>0</td>\n",
       "      <td>1</td>\n",
       "      <td>Yes</td>\n",
       "      <td>Private</td>\n",
       "      <td>Rural</td>\n",
       "      <td>105.92</td>\n",
       "      <td>32.5</td>\n",
       "      <td>never smoked</td>\n",
       "      <td>1</td>\n",
       "    </tr>\n",
       "    <tr>\n",
       "      <th>3</th>\n",
       "      <td>60182</td>\n",
       "      <td>Female</td>\n",
       "      <td>49.0</td>\n",
       "      <td>0</td>\n",
       "      <td>0</td>\n",
       "      <td>Yes</td>\n",
       "      <td>Private</td>\n",
       "      <td>Urban</td>\n",
       "      <td>171.23</td>\n",
       "      <td>34.4</td>\n",
       "      <td>smokes</td>\n",
       "      <td>1</td>\n",
       "    </tr>\n",
       "    <tr>\n",
       "      <th>4</th>\n",
       "      <td>1665</td>\n",
       "      <td>Female</td>\n",
       "      <td>79.0</td>\n",
       "      <td>1</td>\n",
       "      <td>0</td>\n",
       "      <td>Yes</td>\n",
       "      <td>Self-employed</td>\n",
       "      <td>Rural</td>\n",
       "      <td>174.12</td>\n",
       "      <td>24.0</td>\n",
       "      <td>never smoked</td>\n",
       "      <td>1</td>\n",
       "    </tr>\n",
       "  </tbody>\n",
       "</table>\n",
       "</div>"
      ],
      "text/plain": [
       "      id  gender   age  hypertension  heart_disease ever_married  \\\n",
       "0   9046    Male  67.0             0              1          Yes   \n",
       "1  51676  Female  61.0             0              0          Yes   \n",
       "2  31112    Male  80.0             0              1          Yes   \n",
       "3  60182  Female  49.0             0              0          Yes   \n",
       "4   1665  Female  79.0             1              0          Yes   \n",
       "\n",
       "       work_type Residence_type  avg_glucose_level   bmi   smoking_status  \\\n",
       "0        Private          Urban             228.69  36.6  formerly smoked   \n",
       "1  Self-employed          Rural             202.21  28.1     never smoked   \n",
       "2        Private          Rural             105.92  32.5     never smoked   \n",
       "3        Private          Urban             171.23  34.4           smokes   \n",
       "4  Self-employed          Rural             174.12  24.0     never smoked   \n",
       "\n",
       "   stroke  \n",
       "0       1  \n",
       "1       1  \n",
       "2       1  \n",
       "3       1  \n",
       "4       1  "
      ]
     },
     "execution_count": 11,
     "metadata": {},
     "output_type": "execute_result"
    }
   ],
   "source": [
    "Healthcare['bmi'].fillna(Healthcare['bmi'].median(),inplace=True)\n",
    "Healthcare.head()"
   ]
  },
  {
   "cell_type": "markdown",
   "id": "1e8b09f7-2adc-4aae-9fcd-bdd604fb5b65",
   "metadata": {},
   "source": [
    "Insight: According to the charts, which are skewed to the right, it seems that placing the missing values with the median is a suitable solution for handling the missing values."
   ]
  },
  {
   "cell_type": "code",
   "execution_count": 12,
   "id": "a74177b0-d1a8-46f8-83d6-ac12a7414c4a",
   "metadata": {},
   "outputs": [
    {
     "data": {
      "text/plain": [
       "id                   0\n",
       "gender               0\n",
       "age                  0\n",
       "hypertension         0\n",
       "heart_disease        0\n",
       "ever_married         0\n",
       "work_type            0\n",
       "Residence_type       0\n",
       "avg_glucose_level    0\n",
       "bmi                  0\n",
       "smoking_status       0\n",
       "stroke               0\n",
       "dtype: int64"
      ]
     },
     "execution_count": 12,
     "metadata": {},
     "output_type": "execute_result"
    }
   ],
   "source": [
    "np.sum(Healthcare.isnull())"
   ]
  },
  {
   "cell_type": "markdown",
   "id": "bb377abb-a38f-4fab-a705-9be6ffff988d",
   "metadata": {},
   "source": [
    "Handling Outliers"
   ]
  },
  {
   "cell_type": "markdown",
   "id": "b0bc6117-00b6-499a-b822-17035b22c8eb",
   "metadata": {},
   "source": [
    "Handling Outliers"
   ]
  },
  {
   "cell_type": "code",
   "execution_count": 13,
   "id": "1cf54307-842e-454b-92c8-8d344a747f1d",
   "metadata": {},
   "outputs": [],
   "source": [
    "numeric_Healthcare = Healthcare.select_dtypes(include=['float64'])"
   ]
  },
  {
   "cell_type": "code",
   "execution_count": 14,
   "id": "ac014b77-5696-425f-b1ef-65a9e5463a7e",
   "metadata": {},
   "outputs": [
    {
     "name": "stdout",
     "output_type": "stream",
     "text": [
      "age                    0\n",
      "avg_glucose_level    627\n",
      "bmi                  126\n",
      "dtype: int64\n"
     ]
    }
   ],
   "source": [
    "Q1 = numeric_Healthcare.quantile(0.25)\n",
    "Q3 = numeric_Healthcare.quantile(0.75)\n",
    "IQR = Q3 - Q1\n",
    "lower_bound = Q1 - 1.5 * IQR\n",
    "upper_bound = Q3 + 1.5 * IQR\n",
    "outliers = (numeric_Healthcare < lower_bound) | (numeric_Healthcare > upper_bound)\n",
    "outliers_count = outliers.sum()\n",
    "print(outliers_count)"
   ]
  },
  {
   "cell_type": "markdown",
   "id": "febb3bf9-bcd0-4b95-af1d-72b2ed2c4899",
   "metadata": {},
   "source": [
    "Result: We have outliers in two variables include Average Glucose Lavel and BMI, so we invastige more these features to handle outliers. The approach is to fit the outliers with the mean."
   ]
  },
  {
   "cell_type": "code",
   "execution_count": 15,
   "id": "b002ad9a-3138-4781-9222-f17865525527",
   "metadata": {},
   "outputs": [],
   "source": [
    "def ImputeOutliersIQR(dataframeVariable):\n",
    "    Q1 = dataframeVariable.quantile(0.25)\n",
    "    Q3 = dataframeVariable.quantile(0.75)\n",
    "    IQR = Q3 - Q1\n",
    "    lower_bound = Q1 - 1.5 * IQR\n",
    "    upper_bound = Q3 + 1.5 * IQR\n",
    "\n",
    "    dataframeVariable = np.where(\n",
    "        dataframeVariable >= upper_bound,\n",
    "        dataframeVariable.mean(),\n",
    "        np.where(\n",
    "            dataframeVariable <= lower_bound,\n",
    "            dataframeVariable.mean(),\n",
    "            dataframeVariable\n",
    "        )\n",
    "    )\n",
    "    return dataframeVariable\n"
   ]
  },
  {
   "cell_type": "code",
   "execution_count": 16,
   "id": "fa5438c7-4c61-4ae2-9657-68d562578325",
   "metadata": {},
   "outputs": [
    {
     "data": {
      "text/html": [
       "<iframe\n",
       "    scrolling=\"no\"\n",
       "    width=\"1320px\"\n",
       "    height=\"720\"\n",
       "    src=\"iframe_figures/figure_16.html\"\n",
       "    frameborder=\"0\"\n",
       "    allowfullscreen\n",
       "></iframe>\n"
      ]
     },
     "metadata": {},
     "output_type": "display_data"
    }
   ],
   "source": [
    "HealthcareWithoutOutliersavg_glucose_level = Healthcare.copy()\n",
    "\n",
    "fig = make_subplots(\n",
    "    rows=1, cols=5,\n",
    "    specs=[[{}, {}, {} ,{} ,{}]], subplot_titles=(\"Initial Data\",\"Step 1\",\"Without Outliers\"))\n",
    "fig.add_trace(go.Box(y=HealthcareWithoutOutliersavg_glucose_level['avg_glucose_level'],  name=\"avg_glucose_level\",marker_color='dodgerblue'), 1, 1)\n",
    "\n",
    "HealthcareWithoutOutliersavg_glucose_level['avg_glucose_level'] = ImputeOutliersIQR(HealthcareWithoutOutliersavg_glucose_level['avg_glucose_level'])       \n",
    "fig.add_trace(go.Box(y=HealthcareWithoutOutliersavg_glucose_level['avg_glucose_level'], name=\"avg_glucose_level\",marker_color='royalblue'), 1, 2)\n",
    "\n",
    "HealthcareWithoutOutliersavg_glucose_level['avg_glucose_level'] = ImputeOutliersIQR(HealthcareWithoutOutliersavg_glucose_level['avg_glucose_level'])        \n",
    "fig.add_trace(go.Box(y=HealthcareWithoutOutliersavg_glucose_level['avg_glucose_level'], name=\"avg_glucose_level\",marker_color='navy'), 1, 3)\n",
    "\n",
    "fig.update_layout(height=700, width=1300, showlegend=False, title_text=\"REMOVE OUTLIERS FROM INCOME($)\", \n",
    "                  title_font = {\"size\": 20, \"color\": 'gray', 'family':'Arial Black'}, title={ 'x':0.5,'xanchor': 'center','yanchor': 'top'})\n",
    "fig.show(renderer=\"iframe\")"
   ]
  },
  {
   "cell_type": "code",
   "execution_count": 17,
   "id": "a06b1717-a436-4f4e-806b-f9168832a587",
   "metadata": {},
   "outputs": [
    {
     "data": {
      "text/html": [
       "<iframe\n",
       "    scrolling=\"no\"\n",
       "    width=\"1320px\"\n",
       "    height=\"720\"\n",
       "    src=\"iframe_figures/figure_17.html\"\n",
       "    frameborder=\"0\"\n",
       "    allowfullscreen\n",
       "></iframe>\n"
      ]
     },
     "metadata": {},
     "output_type": "display_data"
    }
   ],
   "source": [
    "HealthcareWithoutOutliersbmi = HealthcareWithoutOutliersavg_glucose_level.copy()\n",
    "\n",
    "fig = make_subplots(\n",
    "    rows=1, cols=5,\n",
    "    specs=[[{}, {}, {}, {}, {}]], subplot_titles=(\"Initial Data\",\"Step 1\",\"Step 2\",\"Step 3\",\"Without Outliers\"))\n",
    "fig.add_trace(go.Box(y=Healthcare['bmi'],  name=\"bmi\",marker_color='lightblue'), 1, 1)\n",
    "\n",
    "HealthcareWithoutOutliersbmi['bmi'] = ImputeOutliersIQR(HealthcareWithoutOutliersbmi['bmi'])        \n",
    "fig.add_trace(go.Box(y=HealthcareWithoutOutliersbmi['bmi'], name=\"bmi\",marker_color='cornflowerblue'), 1, 2)\n",
    "\n",
    "HealthcareWithoutOutliersbmi['bmi'] = ImputeOutliersIQR(HealthcareWithoutOutliersbmi['bmi'])       \n",
    "fig.add_trace(go.Box(y=HealthcareWithoutOutliersbmi['bmi'], name=\"bmi\",marker_color='dodgerblue'), 1, 3)\n",
    "\n",
    "HealthcareWithoutOutliersbmi['bmi'] = ImputeOutliersIQR(HealthcareWithoutOutliersbmi['bmi'])    \n",
    "fig.add_trace(go.Box(y=HealthcareWithoutOutliersbmi['bmi'], name=\"bmi\",marker_color='royalblue'), 1, 4)\n",
    "\n",
    "HealthcareWithoutOutliersbmi['bmi']= ImputeOutliersIQR(HealthcareWithoutOutliersbmi['bmi'])      \n",
    "fig.add_trace(go.Box(y=HealthcareWithoutOutliersbmi['bmi'], name=\"bmi\",marker_color='navy'), 1, 5)\n",
    "\n",
    "fig.update_layout(height=700, width=1300, showlegend=False, title_text=\"REMOVE OUTLIERS FROM bmi($)\", \n",
    "                  title_font = {\"size\": 20, \"color\": 'gray', 'family':'Arial Black'}, title={ 'x':0.5,'xanchor': 'center','yanchor': 'top'})\n",
    "fig.show(renderer=\"iframe\")"
   ]
  },
  {
   "cell_type": "markdown",
   "id": "5fe6f2e1-13fd-4cd8-a9ad-b9386250f9c6",
   "metadata": {},
   "source": [
    "Descriptive Statistics"
   ]
  },
  {
   "cell_type": "code",
   "execution_count": 18,
   "id": "5be9ce80-ba65-4c25-ada3-6771315a9892",
   "metadata": {},
   "outputs": [
    {
     "data": {
      "text/plain": [
       "gender\n",
       "Female    2994\n",
       "Male      2115\n",
       "Other        1\n",
       "Name: count, dtype: int64"
      ]
     },
     "execution_count": 18,
     "metadata": {},
     "output_type": "execute_result"
    }
   ],
   "source": [
    "Healthcare['gender'].value_counts()"
   ]
  },
  {
   "cell_type": "code",
   "execution_count": 19,
   "id": "6e768100-c057-4f27-8477-3bcadd1c8720",
   "metadata": {},
   "outputs": [
    {
     "data": {
      "text/plain": [
       "count    5110.000000\n",
       "mean       43.226614\n",
       "std        22.612647\n",
       "min         0.080000\n",
       "25%        25.000000\n",
       "50%        45.000000\n",
       "75%        61.000000\n",
       "max        82.000000\n",
       "Name: age, dtype: float64"
      ]
     },
     "execution_count": 19,
     "metadata": {},
     "output_type": "execute_result"
    }
   ],
   "source": [
    "Healthcare['age'].describe()"
   ]
  },
  {
   "cell_type": "code",
   "execution_count": 20,
   "id": "b0bf6bb7-7f2f-47b0-9f4d-57fbc278c8f5",
   "metadata": {},
   "outputs": [
    {
     "data": {
      "text/plain": [
       "hypertension\n",
       "0    4612\n",
       "1     498\n",
       "Name: count, dtype: int64"
      ]
     },
     "execution_count": 20,
     "metadata": {},
     "output_type": "execute_result"
    }
   ],
   "source": [
    "Healthcare['hypertension'].value_counts()"
   ]
  },
  {
   "cell_type": "code",
   "execution_count": 21,
   "id": "21bfa655-1a4a-481b-b392-fe7e25024b10",
   "metadata": {},
   "outputs": [
    {
     "data": {
      "text/plain": [
       "heart_disease\n",
       "0    4834\n",
       "1     276\n",
       "Name: count, dtype: int64"
      ]
     },
     "execution_count": 21,
     "metadata": {},
     "output_type": "execute_result"
    }
   ],
   "source": [
    "Healthcare['heart_disease'].value_counts()"
   ]
  },
  {
   "cell_type": "code",
   "execution_count": 22,
   "id": "6cd7a458-2d39-4725-9bdd-78f856d7209c",
   "metadata": {},
   "outputs": [
    {
     "data": {
      "text/plain": [
       "ever_married\n",
       "Yes    3353\n",
       "No     1757\n",
       "Name: count, dtype: int64"
      ]
     },
     "execution_count": 22,
     "metadata": {},
     "output_type": "execute_result"
    }
   ],
   "source": [
    "Healthcare['ever_married'].value_counts()"
   ]
  },
  {
   "cell_type": "code",
   "execution_count": 23,
   "id": "2c817dfa-4134-4cd9-a816-2fd072cfe91b",
   "metadata": {},
   "outputs": [
    {
     "data": {
      "text/plain": [
       "work_type\n",
       "Private          2925\n",
       "Self-employed     819\n",
       "children          687\n",
       "Govt_job          657\n",
       "Never_worked       22\n",
       "Name: count, dtype: int64"
      ]
     },
     "execution_count": 23,
     "metadata": {},
     "output_type": "execute_result"
    }
   ],
   "source": [
    "Healthcare['work_type'].value_counts()"
   ]
  },
  {
   "cell_type": "code",
   "execution_count": 24,
   "id": "548b96ca-508b-420b-bcf7-2df552580960",
   "metadata": {},
   "outputs": [
    {
     "data": {
      "text/plain": [
       "Residence_type\n",
       "Urban    2596\n",
       "Rural    2514\n",
       "Name: count, dtype: int64"
      ]
     },
     "execution_count": 24,
     "metadata": {},
     "output_type": "execute_result"
    }
   ],
   "source": [
    "Healthcare['Residence_type'].value_counts()"
   ]
  },
  {
   "cell_type": "code",
   "execution_count": 25,
   "id": "52686be2-4cea-416c-b213-510ad77eca53",
   "metadata": {},
   "outputs": [
    {
     "data": {
      "text/plain": [
       "count    5110.000000\n",
       "mean      106.147677\n",
       "std        45.283560\n",
       "min        55.120000\n",
       "25%        77.245000\n",
       "50%        91.885000\n",
       "75%       114.090000\n",
       "max       271.740000\n",
       "Name: avg_glucose_level, dtype: float64"
      ]
     },
     "execution_count": 25,
     "metadata": {},
     "output_type": "execute_result"
    }
   ],
   "source": [
    "Healthcare['avg_glucose_level'].describe()"
   ]
  },
  {
   "cell_type": "code",
   "execution_count": 26,
   "id": "4686d90e-8c7c-46d6-b880-685ac6113745",
   "metadata": {},
   "outputs": [
    {
     "data": {
      "text/plain": [
       "count    5110.000000\n",
       "mean       28.862035\n",
       "std         7.699562\n",
       "min        10.300000\n",
       "25%        23.800000\n",
       "50%        28.100000\n",
       "75%        32.800000\n",
       "max        97.600000\n",
       "Name: bmi, dtype: float64"
      ]
     },
     "execution_count": 26,
     "metadata": {},
     "output_type": "execute_result"
    }
   ],
   "source": [
    "Healthcare['bmi'].describe()"
   ]
  },
  {
   "cell_type": "code",
   "execution_count": 27,
   "id": "dacc6b9b-6daf-4cff-b8c0-ad949ebe50dd",
   "metadata": {},
   "outputs": [
    {
     "data": {
      "text/plain": [
       "smoking_status\n",
       "never smoked       1892\n",
       "Unknown            1544\n",
       "formerly smoked     885\n",
       "smokes              789\n",
       "Name: count, dtype: int64"
      ]
     },
     "execution_count": 27,
     "metadata": {},
     "output_type": "execute_result"
    }
   ],
   "source": [
    "Healthcare['smoking_status'].value_counts()"
   ]
  },
  {
   "cell_type": "markdown",
   "id": "3b5cf0b0-3c65-41c5-9f57-81e49e143631",
   "metadata": {},
   "source": [
    "Encoding Categorical Variables"
   ]
  },
  {
   "cell_type": "code",
   "execution_count": 28,
   "id": "a6722de4-97ed-4d1c-9966-bbdf9199b70c",
   "metadata": {},
   "outputs": [],
   "source": [
    "Healthcare.drop(\"id\",axis=1,inplace=True)"
   ]
  },
  {
   "cell_type": "code",
   "execution_count": 29,
   "id": "5a8a410f-a481-4c5e-bcda-2d04f8fca297",
   "metadata": {},
   "outputs": [],
   "source": [
    "Healthcare['gender']=Healthcare['gender'].apply(lambda x: 0 if x==\"Male\" else(1 if x==\"Female\" else 2))"
   ]
  },
  {
   "cell_type": "code",
   "execution_count": 30,
   "id": "2029dc4a-e9e8-41e2-a730-4d6f181f0171",
   "metadata": {},
   "outputs": [],
   "source": [
    "Healthcare['ever_married']=Healthcare['ever_married'].apply(lambda x: 0 if x==\"No\" else 1)"
   ]
  },
  {
   "cell_type": "code",
   "execution_count": 31,
   "id": "8d521d29-ef79-4218-b0e3-68b77539384b",
   "metadata": {},
   "outputs": [],
   "source": [
    "Healthcare['Residence_type']=Healthcare['Residence_type'].apply(lambda x: 0 if x==\"Urban\" else 1)"
   ]
  },
  {
   "cell_type": "code",
   "execution_count": 32,
   "id": "41b06d06-d249-4123-ade6-dfec88d0da4a",
   "metadata": {},
   "outputs": [],
   "source": [
    "Healthcare_encoded=pd.get_dummies(Healthcare,columns=[\"work_type\",\"smoking_status\"],drop_first=True)"
   ]
  },
  {
   "cell_type": "code",
   "execution_count": 33,
   "id": "b4b81ab5-2476-4b85-b030-0e2593a9b9d4",
   "metadata": {},
   "outputs": [
    {
     "data": {
      "text/html": [
       "<div>\n",
       "<style scoped>\n",
       "    .dataframe tbody tr th:only-of-type {\n",
       "        vertical-align: middle;\n",
       "    }\n",
       "\n",
       "    .dataframe tbody tr th {\n",
       "        vertical-align: top;\n",
       "    }\n",
       "\n",
       "    .dataframe thead th {\n",
       "        text-align: right;\n",
       "    }\n",
       "</style>\n",
       "<table border=\"1\" class=\"dataframe\">\n",
       "  <thead>\n",
       "    <tr style=\"text-align: right;\">\n",
       "      <th></th>\n",
       "      <th>gender</th>\n",
       "      <th>age</th>\n",
       "      <th>hypertension</th>\n",
       "      <th>heart_disease</th>\n",
       "      <th>ever_married</th>\n",
       "      <th>Residence_type</th>\n",
       "      <th>avg_glucose_level</th>\n",
       "      <th>bmi</th>\n",
       "      <th>stroke</th>\n",
       "      <th>work_type_Never_worked</th>\n",
       "      <th>work_type_Private</th>\n",
       "      <th>work_type_Self-employed</th>\n",
       "      <th>work_type_children</th>\n",
       "      <th>smoking_status_formerly smoked</th>\n",
       "      <th>smoking_status_never smoked</th>\n",
       "      <th>smoking_status_smokes</th>\n",
       "    </tr>\n",
       "  </thead>\n",
       "  <tbody>\n",
       "    <tr>\n",
       "      <th>0</th>\n",
       "      <td>0</td>\n",
       "      <td>67.0</td>\n",
       "      <td>0</td>\n",
       "      <td>1</td>\n",
       "      <td>1</td>\n",
       "      <td>0</td>\n",
       "      <td>228.69</td>\n",
       "      <td>36.6</td>\n",
       "      <td>1</td>\n",
       "      <td>False</td>\n",
       "      <td>True</td>\n",
       "      <td>False</td>\n",
       "      <td>False</td>\n",
       "      <td>True</td>\n",
       "      <td>False</td>\n",
       "      <td>False</td>\n",
       "    </tr>\n",
       "    <tr>\n",
       "      <th>1</th>\n",
       "      <td>1</td>\n",
       "      <td>61.0</td>\n",
       "      <td>0</td>\n",
       "      <td>0</td>\n",
       "      <td>1</td>\n",
       "      <td>1</td>\n",
       "      <td>202.21</td>\n",
       "      <td>28.1</td>\n",
       "      <td>1</td>\n",
       "      <td>False</td>\n",
       "      <td>False</td>\n",
       "      <td>True</td>\n",
       "      <td>False</td>\n",
       "      <td>False</td>\n",
       "      <td>True</td>\n",
       "      <td>False</td>\n",
       "    </tr>\n",
       "    <tr>\n",
       "      <th>2</th>\n",
       "      <td>0</td>\n",
       "      <td>80.0</td>\n",
       "      <td>0</td>\n",
       "      <td>1</td>\n",
       "      <td>1</td>\n",
       "      <td>1</td>\n",
       "      <td>105.92</td>\n",
       "      <td>32.5</td>\n",
       "      <td>1</td>\n",
       "      <td>False</td>\n",
       "      <td>True</td>\n",
       "      <td>False</td>\n",
       "      <td>False</td>\n",
       "      <td>False</td>\n",
       "      <td>True</td>\n",
       "      <td>False</td>\n",
       "    </tr>\n",
       "    <tr>\n",
       "      <th>3</th>\n",
       "      <td>1</td>\n",
       "      <td>49.0</td>\n",
       "      <td>0</td>\n",
       "      <td>0</td>\n",
       "      <td>1</td>\n",
       "      <td>0</td>\n",
       "      <td>171.23</td>\n",
       "      <td>34.4</td>\n",
       "      <td>1</td>\n",
       "      <td>False</td>\n",
       "      <td>True</td>\n",
       "      <td>False</td>\n",
       "      <td>False</td>\n",
       "      <td>False</td>\n",
       "      <td>False</td>\n",
       "      <td>True</td>\n",
       "    </tr>\n",
       "    <tr>\n",
       "      <th>4</th>\n",
       "      <td>1</td>\n",
       "      <td>79.0</td>\n",
       "      <td>1</td>\n",
       "      <td>0</td>\n",
       "      <td>1</td>\n",
       "      <td>1</td>\n",
       "      <td>174.12</td>\n",
       "      <td>24.0</td>\n",
       "      <td>1</td>\n",
       "      <td>False</td>\n",
       "      <td>False</td>\n",
       "      <td>True</td>\n",
       "      <td>False</td>\n",
       "      <td>False</td>\n",
       "      <td>True</td>\n",
       "      <td>False</td>\n",
       "    </tr>\n",
       "  </tbody>\n",
       "</table>\n",
       "</div>"
      ],
      "text/plain": [
       "   gender   age  hypertension  heart_disease  ever_married  Residence_type  \\\n",
       "0       0  67.0             0              1             1               0   \n",
       "1       1  61.0             0              0             1               1   \n",
       "2       0  80.0             0              1             1               1   \n",
       "3       1  49.0             0              0             1               0   \n",
       "4       1  79.0             1              0             1               1   \n",
       "\n",
       "   avg_glucose_level   bmi  stroke  work_type_Never_worked  work_type_Private  \\\n",
       "0             228.69  36.6       1                   False               True   \n",
       "1             202.21  28.1       1                   False              False   \n",
       "2             105.92  32.5       1                   False               True   \n",
       "3             171.23  34.4       1                   False               True   \n",
       "4             174.12  24.0       1                   False              False   \n",
       "\n",
       "   work_type_Self-employed  work_type_children  \\\n",
       "0                    False               False   \n",
       "1                     True               False   \n",
       "2                    False               False   \n",
       "3                    False               False   \n",
       "4                     True               False   \n",
       "\n",
       "   smoking_status_formerly smoked  smoking_status_never smoked  \\\n",
       "0                            True                        False   \n",
       "1                           False                         True   \n",
       "2                           False                         True   \n",
       "3                           False                        False   \n",
       "4                           False                         True   \n",
       "\n",
       "   smoking_status_smokes  \n",
       "0                  False  \n",
       "1                  False  \n",
       "2                  False  \n",
       "3                   True  \n",
       "4                  False  "
      ]
     },
     "execution_count": 33,
     "metadata": {},
     "output_type": "execute_result"
    }
   ],
   "source": [
    "Healthcare_encoded.head()"
   ]
  },
  {
   "cell_type": "code",
   "execution_count": null,
   "id": "a0a76149-5175-4c9a-aa28-d6e0d047c232",
   "metadata": {},
   "outputs": [],
   "source": []
  }
 ],
 "metadata": {
  "kernelspec": {
   "display_name": "Python 3 (ipykernel)",
   "language": "python",
   "name": "python3"
  },
  "language_info": {
   "codemirror_mode": {
    "name": "ipython",
    "version": 3
   },
   "file_extension": ".py",
   "mimetype": "text/x-python",
   "name": "python",
   "nbconvert_exporter": "python",
   "pygments_lexer": "ipython3",
   "version": "3.12.4"
  }
 },
 "nbformat": 4,
 "nbformat_minor": 5
}
